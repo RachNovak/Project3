{
 "cells": [
  {
   "cell_type": "code",
   "execution_count": 1,
   "metadata": {},
   "outputs": [],
   "source": [
    "#Import psycopg2\n",
    "import psycopg2\n",
    "#import depenedencies\n",
    "import pandas as pd"
   ]
  },
  {
   "cell_type": "code",
   "execution_count": 4,
   "metadata": {},
   "outputs": [],
   "source": [
    "## declare the connection string specifying the hose name database name, user name and password\n",
    "conn_string = \"host= 'localhost' dbname= 'project3'\\\n",
    "user= 'postgres' password= 'Mahyar@378'\"\n",
    "\n",
    "#use connect function to establish the connection\n",
    "conn = psycopg2.connect(conn_string)"
   ]
  },
  {
   "cell_type": "code",
   "execution_count": 6,
   "metadata": {},
   "outputs": [],
   "source": [
    "#Query all records in the database\n",
    "data = pd.read_sql('select * from final', conn)"
   ]
  },
  {
   "cell_type": "code",
   "execution_count": 7,
   "metadata": {},
   "outputs": [
    {
     "data": {
      "text/html": [
       "<div>\n",
       "<style scoped>\n",
       "    .dataframe tbody tr th:only-of-type {\n",
       "        vertical-align: middle;\n",
       "    }\n",
       "\n",
       "    .dataframe tbody tr th {\n",
       "        vertical-align: top;\n",
       "    }\n",
       "\n",
       "    .dataframe thead th {\n",
       "        text-align: right;\n",
       "    }\n",
       "</style>\n",
       "<table border=\"1\" class=\"dataframe\">\n",
       "  <thead>\n",
       "    <tr style=\"text-align: right;\">\n",
       "      <th></th>\n",
       "      <th>country</th>\n",
       "      <th>total</th>\n",
       "      <th>coal</th>\n",
       "      <th>oil</th>\n",
       "      <th>gas</th>\n",
       "      <th>cement</th>\n",
       "      <th>flaring</th>\n",
       "    </tr>\n",
       "  </thead>\n",
       "  <tbody>\n",
       "    <tr>\n",
       "      <th>0</th>\n",
       "      <td>China</td>\n",
       "      <td>177305.057105</td>\n",
       "      <td>130257.534962</td>\n",
       "      <td>24557.651857</td>\n",
       "      <td>6314.465957</td>\n",
       "      <td>13181.112882</td>\n",
       "      <td>37.874820</td>\n",
       "    </tr>\n",
       "    <tr>\n",
       "      <th>1</th>\n",
       "      <td>USA</td>\n",
       "      <td>123528.098784</td>\n",
       "      <td>38500.808418</td>\n",
       "      <td>52353.235484</td>\n",
       "      <td>30012.365171</td>\n",
       "      <td>881.204796</td>\n",
       "      <td>1160.006640</td>\n",
       "    </tr>\n",
       "    <tr>\n",
       "      <th>2</th>\n",
       "      <td>India</td>\n",
       "      <td>39162.083008</td>\n",
       "      <td>24723.491522</td>\n",
       "      <td>10332.574810</td>\n",
       "      <td>2034.204247</td>\n",
       "      <td>2013.271144</td>\n",
       "      <td>58.541290</td>\n",
       "    </tr>\n",
       "    <tr>\n",
       "      <th>3</th>\n",
       "      <td>Russia</td>\n",
       "      <td>35503.284889</td>\n",
       "      <td>9097.078482</td>\n",
       "      <td>7772.362995</td>\n",
       "      <td>16867.348943</td>\n",
       "      <td>480.421762</td>\n",
       "      <td>947.332335</td>\n",
       "    </tr>\n",
       "    <tr>\n",
       "      <th>4</th>\n",
       "      <td>Japan</td>\n",
       "      <td>26963.314907</td>\n",
       "      <td>9477.663751</td>\n",
       "      <td>11924.431232</td>\n",
       "      <td>4733.657971</td>\n",
       "      <td>620.294574</td>\n",
       "      <td>10.439636</td>\n",
       "    </tr>\n",
       "  </tbody>\n",
       "</table>\n",
       "</div>"
      ],
      "text/plain": [
       "  country          total           coal           oil           gas  \\\n",
       "0   China  177305.057105  130257.534962  24557.651857   6314.465957   \n",
       "1     USA  123528.098784   38500.808418  52353.235484  30012.365171   \n",
       "2   India   39162.083008   24723.491522  10332.574810   2034.204247   \n",
       "3  Russia   35503.284889    9097.078482   7772.362995  16867.348943   \n",
       "4   Japan   26963.314907    9477.663751  11924.431232   4733.657971   \n",
       "\n",
       "         cement      flaring  \n",
       "0  13181.112882    37.874820  \n",
       "1    881.204796  1160.006640  \n",
       "2   2013.271144    58.541290  \n",
       "3    480.421762   947.332335  \n",
       "4    620.294574    10.439636  "
      ]
     },
     "execution_count": 7,
     "metadata": {},
     "output_type": "execute_result"
    }
   ],
   "source": [
    "data.head()"
   ]
  }
 ],
 "metadata": {
  "kernelspec": {
   "display_name": "base",
   "language": "python",
   "name": "python3"
  },
  "language_info": {
   "codemirror_mode": {
    "name": "ipython",
    "version": 3
   },
   "file_extension": ".py",
   "mimetype": "text/x-python",
   "name": "python",
   "nbconvert_exporter": "python",
   "pygments_lexer": "ipython3",
   "version": "3.7.7"
  },
  "orig_nbformat": 4
 },
 "nbformat": 4,
 "nbformat_minor": 2
}
